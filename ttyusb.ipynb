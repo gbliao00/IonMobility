{
 "cells": [
  {
   "cell_type": "markdown",
   "metadata": {},
   "source": [
    "# Probing Serials Ports from Terminal Command\n",
    "python -m serial.tools.list_ports"
   ]
  },
  {
   "cell_type": "code",
   "execution_count": 10,
   "metadata": {},
   "outputs": [],
   "source": [
    "import serial\n",
    "ser=serial.Serial('/dev/ttyUSB0', 38400, timeout=0.1)\n",
    "#ser.write('#A00C10D0148\\r\\n'.encode())\n",
    "ser.write('#A00C11D0000\\n'.encode())   \n",
    "#Command=ser.read(14) # 小括號內可以填入一次要讀取的byte數\n",
    "#print(Command)\n",
    "ser.close()"
   ]
  },
  {
   "cell_type": "code",
   "execution_count": null,
   "metadata": {},
   "outputs": [],
   "source": []
  }
 ],
 "metadata": {
  "kernelspec": {
   "display_name": "Python 3",
   "language": "python",
   "name": "python3"
  },
  "language_info": {
   "codemirror_mode": {
    "name": "ipython",
    "version": 3
   },
   "file_extension": ".py",
   "mimetype": "text/x-python",
   "name": "python",
   "nbconvert_exporter": "python",
   "pygments_lexer": "ipython3",
   "version": "3.5.3"
  }
 },
 "nbformat": 4,
 "nbformat_minor": 2
}
