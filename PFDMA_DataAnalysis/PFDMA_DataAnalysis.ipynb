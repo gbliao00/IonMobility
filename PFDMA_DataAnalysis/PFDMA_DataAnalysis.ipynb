{
 "cells": [
  {
   "cell_type": "markdown",
   "metadata": {
    "deletable": true,
    "editable": true
   },
   "source": [
    "# Simple Data Procressing for PFDMA\n",
    "\n",
    "1. Files in the **files.txt** files\n",
    "2. To Movie Base line to 0\n",
    "3. Merge all data to a dataframe\n",
    "4. Export to an Excel file\n",
    "5. Read Excel File\n",
    "6. Mean and std"
   ]
  },
  {
   "cell_type": "code",
   "execution_count": 6,
   "metadata": {
    "collapsed": false,
    "deletable": true,
    "editable": true
   },
   "outputs": [
    {
     "name": "stdout",
     "output_type": "stream",
     "text": [
      "['191008_MAC_FAN1.97__E10_ESI2300_1', '191008_MAC_FAN1.97__E10_ESI2300_2', '191008_MAC_FAN1.97__E10_ESI2300_3']\n"
     ]
    }
   ],
   "source": [
    "fname = open('files.txt', 'r')   #Open file\n",
    "filename=[]\n",
    "for file in iter(fname):\n",
    "    file=file.strip() # 去掉頭尾空白\n",
    "    filename.append(file)\n",
    "\n",
    "print(str(filename))\n",
    "fname.close()"
   ]
  },
  {
   "cell_type": "code",
   "execution_count": 10,
   "metadata": {
    "collapsed": false,
    "deletable": true,
    "editable": true
   },
   "outputs": [
    {
     "ename": "ImportError",
     "evalue": "No module named 'matplotlib.cbook'",
     "output_type": "error",
     "traceback": [
      "\u001b[1;31m---------------------------------------------------------------------------\u001b[0m",
      "\u001b[1;31mImportError\u001b[0m                               Traceback (most recent call last)",
      "\u001b[1;32m<ipython-input-10-26b59508d2a5>\u001b[0m in \u001b[0;36m<module>\u001b[1;34m()\u001b[0m\n\u001b[1;32m----> 1\u001b[1;33m \u001b[1;32mimport\u001b[0m \u001b[0mmatplotlib\u001b[0m\u001b[1;33m.\u001b[0m\u001b[0mpyplot\u001b[0m \u001b[1;32mas\u001b[0m \u001b[0mplt\u001b[0m\u001b[1;33m\u001b[0m\u001b[0m\n\u001b[0m\u001b[0;32m      2\u001b[0m \u001b[1;32mimport\u001b[0m \u001b[0mnumpy\u001b[0m \u001b[1;32mas\u001b[0m \u001b[0mnp\u001b[0m\u001b[1;33m\u001b[0m\u001b[0m\n\u001b[0;32m      3\u001b[0m \u001b[1;32mimport\u001b[0m \u001b[0mpandas\u001b[0m \u001b[1;32mas\u001b[0m \u001b[0mpd\u001b[0m\u001b[1;33m\u001b[0m\u001b[0m\n\u001b[0;32m      4\u001b[0m \u001b[1;33m\u001b[0m\u001b[0m\n\u001b[0;32m      5\u001b[0m \u001b[1;33m\u001b[0m\u001b[0m\n",
      "\u001b[1;32mC:\\Users\\GB\\AppData\\Local\\Enthought\\Canopy\\edm\\envs\\User\\lib\\site-packages\\matplotlib\\__init__.py\u001b[0m in \u001b[0;36m<module>\u001b[1;34m()\u001b[0m\n\u001b[0;32m    120\u001b[0m \u001b[1;31m# cbook must import matplotlib only within function\u001b[0m\u001b[1;33m\u001b[0m\u001b[1;33m\u001b[0m\u001b[0m\n\u001b[0;32m    121\u001b[0m \u001b[1;31m# definitions, so it is safe to import from it here.\u001b[0m\u001b[1;33m\u001b[0m\u001b[1;33m\u001b[0m\u001b[0m\n\u001b[1;32m--> 122\u001b[1;33m \u001b[1;32mfrom\u001b[0m \u001b[0mmatplotlib\u001b[0m\u001b[1;33m.\u001b[0m\u001b[0mcbook\u001b[0m \u001b[1;32mimport\u001b[0m \u001b[0mis_string_like\u001b[0m\u001b[1;33m,\u001b[0m \u001b[0mmplDeprecation\u001b[0m\u001b[1;33m,\u001b[0m \u001b[0mdedent\u001b[0m\u001b[1;33m,\u001b[0m \u001b[0mget_label\u001b[0m\u001b[1;33m\u001b[0m\u001b[0m\n\u001b[0m\u001b[0;32m    123\u001b[0m \u001b[1;32mfrom\u001b[0m \u001b[0mmatplotlib\u001b[0m\u001b[1;33m.\u001b[0m\u001b[0mcompat\u001b[0m \u001b[1;32mimport\u001b[0m \u001b[0msubprocess\u001b[0m\u001b[1;33m\u001b[0m\u001b[0m\n\u001b[0;32m    124\u001b[0m from matplotlib.rcsetup import (defaultParams,\n",
      "\u001b[1;31mImportError\u001b[0m: No module named 'matplotlib.cbook'"
     ]
    }
   ],
   "source": [
    "import matplotlib.pyplot as plt\n",
    "import numpy as np\n",
    "import pandas as pd\n",
    "\n",
    "\n",
    "fname = open('files.txt', 'r')   #Open file\n",
    "filename=[]\n",
    "for file in iter(fname):\n",
    "    file=file.strip() # 去掉頭尾空白\n",
    "    filename.append(file)\n",
    "\n",
    "print(str(filename))\n",
    "fname.close()\n",
    "\n",
    "\n",
    "TotalData=[]\n",
    "\n",
    "n=0  # 計算共有幾筆數據\n",
    "\n",
    "\n",
    "for file in filename:\n",
    "    file1=file+'.txt' # To Read txt file\n",
    "    column0=[]    # Data of dv\n",
    "    column1=[]    # Data of Intensity    \n",
    "\n",
    "    \n",
    "    for line in open(file1,'r'):\n",
    "        data=line.split(',')   # Data 用,隔開\n",
    "        str0=float(data[0])\n",
    "        str1=float(data[1].strip())    # 去掉 /n\n",
    "                \n",
    "        \n",
    "        column0.append(str0)  # Data of dv\n",
    "        column1.append(str1)  # Data of Intensity\n",
    "    \n",
    "    n+=1 #\n",
    "    \n",
    "    DBcolumn1=[]     # Baseline shift as close as to 0\n",
    "    for x in column1:\n",
    "        #DBcolumn1.append(x-abs(min(column1))) # Baseline shift close to 0\n",
    "        DBcolumn1.append(x-min(column1)) # Baseline shift close to 0\n",
    "\n",
    "    \n",
    "    # Merge to a Matrix\n",
    "    TotalData.append(DBcolumn1)\n",
    "    \n",
    "\n",
    "# 合併 dv 到最後一列.\n",
    "TotalData.append(column0)\n",
    "\n",
    "for i in range(n):\n",
    "    plt.plot(TotalData[n],TotalData[i])\n",
    "\n",
    "plt.show()\n"
   ]
  },
  {
   "cell_type": "code",
   "execution_count": 42,
   "metadata": {
    "collapsed": false,
    "deletable": true,
    "editable": true
   },
   "outputs": [
    {
     "name": "stdout",
     "output_type": "stream",
     "text": [
      "['191008_MAC_FAN1.97__E10_ESI2300_1', '191008_MAC_FAN1.97__E10_ESI2300_2', '191008_MAC_FAN1.97__E10_ESI2300_3']\n"
     ]
    }
   ],
   "source": [
    "import matplotlib.pyplot as plt\n",
    "import numpy as np\n",
    "import pandas as pd\n",
    "\n",
    "\n",
    "fname = open('files.txt', 'r')   #Open file\n",
    "filename=[]\n",
    "for file in iter(fname):\n",
    "    file=file.strip() # 去掉頭尾空白\n",
    "    filename.append(file)\n",
    "\n",
    "print(str(filename))\n",
    "fname.close()\n",
    "\n",
    "\n",
    "TotalData=[]\n",
    "\n",
    "n=0  # 計算共有幾筆數據\n",
    "\n",
    "\n",
    "for file in filename:\n",
    "    file1=file+'.txt' # To Read txt file\n",
    "    column0=[]    # Data of dv\n",
    "    column1=[]    # Data of Intensity    \n",
    "\n",
    "    \n",
    "    for line in open(file1,'r'):\n",
    "        data=line.split(',')   # Data 用,隔開\n",
    "        str0=float(data[0])\n",
    "        str1=float(data[1].strip())    # 去掉 /n\n",
    "                \n",
    "        \n",
    "        column0.append(str0)  # Data of dv\n",
    "        column1.append(str1)  # Data of Intensity\n",
    "    \n",
    "    n+=1 #\n",
    "    \n",
    "    DBcolumn1=[]     # Baseline shift as close as to 0\n",
    "    for x in column1:\n",
    "        DBcolumn1.append(x-min(column1)) # Baseline shift close to 0\n",
    "\n",
    "    \n",
    "    # Merge to a Matrix\n",
    "    TotalData.append(DBcolumn1)\n",
    "    \n",
    "NewTotalData=np.array(TotalData) #\n",
    "#df=pd.DataFrame(NewTotalData).transpose()\n",
    "df=pd.DataFrame(NewTotalData).transpose()\n",
    "df.head()\n",
    "#df1\n",
    "df1=pd.DataFrame(column0)\n",
    "\n",
    "\n",
    "# Data mean, std, and merge\n",
    "Datamean=df.mean(axis=1)\n",
    "Datastd=df.std(axis=1)\n",
    "#\n",
    "\n",
    "#\n",
    "filename.append('DataMean')\n",
    "filename.append('DataStd')\n",
    "filename.append('dv')\n",
    "#\n",
    "df2=pd.concat([df,Datamean,Datastd,df1],axis=1)\n",
    "\n",
    "# rename Index\n",
    "df2=df2.set_axis([filename], axis=1, inplace=False)\n",
    "# df2.head()\n",
    "# Output to an Excel file\n",
    "df2.to_excel('NewData.xlsx')"
   ]
  },
  {
   "cell_type": "code",
   "execution_count": 16,
   "metadata": {
    "collapsed": false
   },
   "outputs": [
    {
     "name": "stdout",
     "output_type": "stream",
     "text": [
      "['191008_MAC_FAN1.97__E10_ESI2300_1', '191008_MAC_FAN1.97__E10_ESI2300_2', '191008_MAC_FAN1.97__E10_ESI2300_3']\n"
     ]
    },
    {
     "ename": "NameError",
     "evalue": "name 'n' is not defined",
     "output_type": "error",
     "traceback": [
      "\u001b[1;31m---------------------------------------------------------------------------\u001b[0m",
      "\u001b[1;31mNameError\u001b[0m                                 Traceback (most recent call last)",
      "\u001b[1;32m<ipython-input-16-a8de3306e173>\u001b[0m in \u001b[0;36m<module>\u001b[1;34m()\u001b[0m\n\u001b[0;32m     29\u001b[0m         \u001b[0mcolumn1\u001b[0m\u001b[1;33m.\u001b[0m\u001b[0mappend\u001b[0m\u001b[1;33m(\u001b[0m\u001b[0mstr1\u001b[0m\u001b[1;33m)\u001b[0m  \u001b[1;31m# Data of Intensity\u001b[0m\u001b[1;33m\u001b[0m\u001b[0m\n\u001b[0;32m     30\u001b[0m \u001b[1;33m\u001b[0m\u001b[0m\n\u001b[1;32m---> 31\u001b[1;33m     \u001b[0mn\u001b[0m\u001b[1;33m+=\u001b[0m\u001b[1;36m1\u001b[0m \u001b[1;31m#\u001b[0m\u001b[1;33m\u001b[0m\u001b[0m\n\u001b[0m\u001b[0;32m     32\u001b[0m \u001b[1;33m\u001b[0m\u001b[0m\n\u001b[0;32m     33\u001b[0m     \u001b[0mDBcolumn1\u001b[0m\u001b[1;33m=\u001b[0m\u001b[1;33m[\u001b[0m\u001b[1;33m]\u001b[0m     \u001b[1;31m# Baseline shift as close as to 0\u001b[0m\u001b[1;33m\u001b[0m\u001b[0m\n",
      "\u001b[1;31mNameError\u001b[0m: name 'n' is not defined"
     ]
    }
   ],
   "source": [
    "import numpy as np\n",
    "import pandas as pd\n",
    "\n",
    "fname = open('files.txt', 'r')   #Open file\n",
    "filename=[]\n",
    "for file in iter(fname):\n",
    "    file=file.strip() # 去掉頭尾空白\n",
    "    filename.append(file)\n",
    "\n",
    "print(str(filename))\n",
    "fname.close()\n",
    "\n",
    "\n",
    "TotalData=[]\n",
    "\n",
    "for file in filename:\n",
    "    file1=file+'.txt' # To Read txt file\n",
    "    column0=[]    # Data of dv\n",
    "    column1=[]    # Data of Intensity    \n",
    "\n",
    "    \n",
    "    for line in open(file1,'r'):\n",
    "        data=line.split(',')   # Data 用,隔開\n",
    "        str0=float(data[0])\n",
    "        str1=float(data[1].strip())    # 去掉 /n\n",
    "                \n",
    "        \n",
    "        column0.append(str0)  # Data of dv\n",
    "        column1.append(str1)  # Data of Intensity\n",
    "    \n",
    "    n+=1 #\n",
    "    \n",
    "    DBcolumn1=[]     # Baseline shift as close as to 0\n",
    "    for x in column1:\n",
    "        DBcolumn1.append(x-min(column1)) # Baseline shift close to 0\n",
    "\n",
    "    \n",
    "    # Merge to a Matrix\n",
    "    TotalData.append(DBcolumn1)\n",
    "    \n"
   ]
  },
  {
   "cell_type": "code",
   "execution_count": null,
   "metadata": {
    "collapsed": true
   },
   "outputs": [],
   "source": []
  }
 ],
 "metadata": {
  "kernelspec": {
   "display_name": "Python 3",
   "language": "python",
   "name": "python3"
  },
  "language_info": {
   "codemirror_mode": {
    "name": "ipython",
    "version": 3
   },
   "file_extension": ".py",
   "mimetype": "text/x-python",
   "name": "python",
   "nbconvert_exporter": "python",
   "pygments_lexer": "ipython3",
   "version": "3.5.2"
  }
 },
 "nbformat": 4,
 "nbformat_minor": 2
}
