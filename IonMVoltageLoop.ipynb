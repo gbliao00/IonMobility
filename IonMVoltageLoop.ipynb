{
 "cells": [
  {
   "cell_type": "code",
   "execution_count": 61,
   "metadata": {},
   "outputs": [
    {
     "name": "stdout",
     "output_type": "stream",
     "text": [
      "['0021', '0000', '0000', '0000', '0000', '0000', '0000', '0000', '0000', '0000', '0000', '0000', '0000', '0000', '0000', '0021']\n",
      "['#A00C10D0021', '#A00C11D0000', '#A00C12D0000', '#A00C13D0000', '#A00C14D0000', '#A00C15D0000', '#A00C16D0000', '#A00C17D0000', '#A00C18D0000', '#A00C19D0000', '#A00C1AD0000', '#A00C1BD0000', '#A00C1CD0000', '#A00C1DD0000', '#A00C1ED0000', '#A00C1FD0021']\n"
     ]
    }
   ],
   "source": [
    "Channel=[\"#A00C10D\",\"#A00C11D\",\"#A00C12D\",\"#A00C13D\",\"#A00C14D\",\"#A00C15D\",\"#A00C16D\",\"#A00C17D\",\"#A00C18D\",\"#A00C19D\",\"#A00C1AD\",\"#A00C1BD\",\"#A00C1CD\",\"#A00C1DD\",\"#A00C1ED\",\"#A00C1FD\"]\n",
    "NewChannel=[]\n",
    "\n",
    "dv=1\n",
    "V=[1,0,0,0,0,0,0,0,0,0,0,0,0,0,0,1]\n",
    "DeltaV=[2,0,0,0,0,0,0,0,0,0,0,0,0,0,0,2]\n",
    "\n",
    "VNew=[]\n",
    "\n",
    "LoopN=1\n",
    "\n",
    "TotalCommand=[]\n",
    "\n",
    "for x in range(0,LoopN):\n",
    "    for i in range(0,16):\n",
    "        NewChannel.append(Channel[i])\n",
    "        \n",
    "        if DeltaV[i]==0:\n",
    "           V1=\"%04x\" % round((V[i])*32.7675)                # 65535/2000=32.7675\n",
    "           VNew.append(V1)\n",
    "           TotalCommand.append(Channel[i]+V1)\n",
    "        else:\n",
    "           V1=\"%04x\" % round((V[i]+x*DeltaV[i])*32.7675)           # 65535/2000=32.7675\n",
    "           VNew.append(V1)   \n",
    "           TotalCommand.append(Channel[i]+V1)      \n",
    "\n",
    "#print(V1)\n",
    "print(VNew)\n",
    "print(TotalCommand)"
   ]
  }
 ],
 "metadata": {
  "kernelspec": {
   "display_name": "Python 3",
   "language": "python",
   "name": "python3"
  },
  "language_info": {
   "codemirror_mode": {
    "name": "ipython",
    "version": 3
   },
   "file_extension": ".py",
   "mimetype": "text/x-python",
   "name": "python",
   "nbconvert_exporter": "python",
   "pygments_lexer": "ipython3",
   "version": "3.5.2"
  }
 },
 "nbformat": 4,
 "nbformat_minor": 2
}
