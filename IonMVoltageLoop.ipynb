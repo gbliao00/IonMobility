{
 "cells": [
  {
   "cell_type": "code",
   "execution_count": 42,
   "metadata": {
    "collapsed": false
   },
   "outputs": [
    {
     "name": "stdout",
     "output_type": "stream",
     "text": [
      "['#A00C1000001', '#A00C1010002', '#A00C1020003', '#A00C1000002', '#A00C1010003', '#A00C1020004', '#A00C1000003', '#A00C1010004', '#A00C1020005', '#A00C1000004', '#A00C1010005', '#A00C1020006']\n"
     ]
    }
   ],
   "source": [
    "Channel=[\"#A00C100\",\"#A00C101\",\"#A00C102\"]\n",
    "NewChannel=[]\n",
    "\n",
    "dv=1\n",
    "V=[1,2,3]\n",
    "VNew=[]\n",
    "LoopN=4\n",
    "\n",
    "TotalCommand=[]\n",
    "\n",
    "for x in range(0,LoopN):\n",
    "    for i in range(0,3):\n",
    "        #NewChannel.append(Channel[i])\n",
    "        #VNew.append(\"%04x\" % (V[i]+x*dv))\n",
    "        TotalCommand.append(Channel[i]+\"%04x\" % (V[i]+x*dv))\n",
    "\n",
    "#print(VNew)\n",
    "#print(NewChannel)\n",
    "print(TotalCommand)"
   ]
  }
 ],
 "metadata": {
  "kernelspec": {
   "display_name": "Python 3",
   "language": "python",
   "name": "python3"
  },
  "language_info": {
   "codemirror_mode": {
    "name": "ipython",
    "version": 3
   },
   "file_extension": ".py",
   "mimetype": "text/x-python",
   "name": "python",
   "nbconvert_exporter": "python",
   "pygments_lexer": "ipython3",
   "version": "3.5.2"
  }
 },
 "nbformat": 4,
 "nbformat_minor": 2
}
