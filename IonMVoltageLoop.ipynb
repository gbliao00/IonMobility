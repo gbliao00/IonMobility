{
 "cells": [
  {
   "cell_type": "code",
   "execution_count": 43,
   "metadata": {
    "collapsed": false,
    "deletable": true,
    "editable": true
   },
   "outputs": [
    {
     "name": "stdout",
     "output_type": "stream",
     "text": [
      "['0020', '0041', '0061']\n",
      "['0001', '0002', '0003']\n",
      "['#A00C100', '#A00C101', '#A00C102']\n",
      "['#A00C1000001', '#A00C1010002', '#A00C1020003']\n"
     ]
    }
   ],
   "source": [
    "Channel=[\"#A00C100\",\"#A00C101\",\"#A00C102\"]\n",
    "NewChannel=[]\n",
    "\n",
    "dv=1\n",
    "V=[1,2,3]\n",
    "#V1=[]\n",
    "\n",
    "VNew=[]\n",
    "VNew1=[]\n",
    "LoopN=1\n",
    "\n",
    "TotalCommand=[]\n",
    "\n",
    "for x in range(0,LoopN):\n",
    "    for i in range(0,3):\n",
    "        NewChannel.append(Channel[i])\n",
    "        V1=\"%04x\" % round((V[i]+x*dv)*32.3)           # 65535/2000=32\n",
    "        VNew1.append(V1)\n",
    "        VNew.append(\"%04x\" % (V[i]+x*dv))\n",
    "        TotalCommand.append(Channel[i]+\"%04x\" % (V[i]+x*dv))\n",
    "\n",
    "print(VNew1)\n",
    "print(VNew)\n",
    "print(NewChannel)\n",
    "print(TotalCommand)"
   ]
  },
  {
   "cell_type": "code",
   "execution_count": null,
   "metadata": {
    "collapsed": true
   },
   "outputs": [],
   "source": []
  }
 ],
 "metadata": {
  "kernelspec": {
   "display_name": "Python 3",
   "language": "python",
   "name": "python3"
  },
  "language_info": {
   "codemirror_mode": {
    "name": "ipython",
    "version": 3
   },
   "file_extension": ".py",
   "mimetype": "text/x-python",
   "name": "python",
   "nbconvert_exporter": "python",
   "pygments_lexer": "ipython3",
   "version": "3.5.2"
  }
 },
 "nbformat": 4,
 "nbformat_minor": 2
}
